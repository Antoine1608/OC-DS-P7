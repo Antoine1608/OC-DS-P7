{
 "cells": [
  {
   "cell_type": "code",
   "execution_count": 6,
   "id": "99e5d42b",
   "metadata": {},
   "outputs": [],
   "source": [
    "import pandas as pd\n",
    "import os"
   ]
  },
  {
   "cell_type": "code",
   "execution_count": 9,
   "id": "4c71e684",
   "metadata": {},
   "outputs": [
    {
     "data": {
      "text/plain": [
       "['.git',\n",
       " '.gitignore',\n",
       " '2-Projet_7',\n",
       " '3-Archive',\n",
       " 'app',\n",
       " 'data',\n",
       " 'model',\n",
       " 'Naudy_Antoine_1_dashboard_et_API_032023.ipynb',\n",
       " 'Naudy_Antoine_2_dossier_code_032023.ipynb',\n",
       " 'Procfile',\n",
       " 'README.md',\n",
       " 'requirements.txt',\n",
       " 'tests']"
      ]
     },
     "execution_count": 9,
     "metadata": {},
     "output_type": "execute_result"
    }
   ],
   "source": [
    " os.listdir(\"..\")"
   ]
  },
  {
   "cell_type": "code",
   "execution_count": null,
   "id": "f9fafff5",
   "metadata": {},
   "outputs": [],
   "source": []
  }
 ],
 "metadata": {
  "kernelspec": {
   "display_name": "Python 3 (ipykernel)",
   "language": "python",
   "name": "python3"
  },
  "language_info": {
   "codemirror_mode": {
    "name": "ipython",
    "version": 3
   },
   "file_extension": ".py",
   "mimetype": "text/x-python",
   "name": "python",
   "nbconvert_exporter": "python",
   "pygments_lexer": "ipython3",
   "version": "3.9.12"
  }
 },
 "nbformat": 4,
 "nbformat_minor": 5
}
