{
  "cells": [
    {
      "cell_type": "markdown",
      "source": [
        "# Home Credit Default Risk"
      ],
      "metadata": {}
    },
    {
      "cell_type": "code",
      "source": [
        "# Handle to the workspace\r\n",
        "from azure.ai.ml import MLClient\r\n",
        "\r\n",
        "# Authentication package\r\n",
        "from azure.identity import DefaultAzureCredential\r\n",
        "\r\n",
        "credential = DefaultAzureCredential()"
      ],
      "outputs": [],
      "execution_count": 1,
      "metadata": {
        "jupyter": {
          "source_hidden": false,
          "outputs_hidden": false
        },
        "nteract": {
          "transient": {
            "deleting": false
          }
        },
        "gather": {
          "logged": 1683635021560
        }
      }
    },
    {
      "cell_type": "code",
      "source": [
        "# Get a handle to the workspace\r\n",
        "ml_client = MLClient(\r\n",
        "    credential=credential,\r\n",
        "    subscription_id=\"6df20682-3fc5-48fd-98e3-927f1ffaf36b\",\r\n",
        "    resource_group_name=\"antoine.naudy-rg\",\r\n",
        "    workspace_name=\"formation\",)"
      ],
      "outputs": [],
      "execution_count": 2,
      "metadata": {
        "jupyter": {
          "source_hidden": false,
          "outputs_hidden": false
        },
        "nteract": {
          "transient": {
            "deleting": false
          }
        },
        "gather": {
          "logged": 1683635022080
        }
      }
    },
    {
      "cell_type": "code",
      "source": [
        "from azure.ai.ml.entities import AmlCompute\r\n",
        "\r\n",
        "# Name assigned to the compute cluster\r\n",
        "cpu_compute_target = \"PDS6\"#\"cpu-cluster\"\r\n",
        "\r\n",
        "try:\r\n",
        "    # let's see if the compute target already exists\r\n",
        "    cpu_cluster = ml_client.compute.get(cpu_compute_target)\r\n",
        "    print(\r\n",
        "        f\"You already have a cluster named {cpu_compute_target}, we'll reuse it as is.\"\r\n",
        "    )\r\n",
        "\r\n",
        "except Exception:\r\n",
        "    print(\"Creating a new cpu compute target...\")\r\n",
        "\r\n",
        "    # Let's create the Azure ML compute object with the intended parameters\r\n",
        "    cpu_cluster = AmlCompute(\r\n",
        "        name=cpu_compute_target,\r\n",
        "        # Azure ML Compute is the on-demand VM service\r\n",
        "        type=\"amlcompute\",\r\n",
        "        # VM Family\r\n",
        "        size=\"STANDARD_DS3_V2\",\r\n",
        "        # Minimum running nodes when there is no job running\r\n",
        "        min_instances=0,\r\n",
        "        # Nodes in cluster\r\n",
        "        max_instances=4,\r\n",
        "        # How many seconds will the node running after the job termination\r\n",
        "        idle_time_before_scale_down=180,\r\n",
        "        # Dedicated or LowPriority. The latter is cheaper but there is a chance of job termination\r\n",
        "        tier=\"Dedicated\",\r\n",
        "    )\r\n",
        "    print(\r\n",
        "         f\"AMLCompute with name {cpu_cluster.name} will be created, with compute size {cpu_cluster.size}\"\r\n",
        "          )\r\n",
        "    # Now, we pass the object to MLClient's create_or_update method\r\n",
        "    cpu_cluster = ml_client.compute.begin_create_or_update(cpu_cluster)"
      ],
      "outputs": [
        {
          "output_type": "stream",
          "name": "stdout",
          "text": "You already have a cluster named PDS6, we'll reuse it as is.\n"
        }
      ],
      "execution_count": 3,
      "metadata": {
        "jupyter": {
          "source_hidden": false,
          "outputs_hidden": false
        },
        "nteract": {
          "transient": {
            "deleting": false
          }
        },
        "gather": {
          "logged": 1683635022866
        }
      }
    },
    {
      "cell_type": "code",
      "source": [
        "# Create a job environment\r\n",
        "import os\r\n",
        "\r\n",
        "dependencies_dir = \"./dependencies\"\r\n",
        "os.makedirs(dependencies_dir, exist_ok=True)"
      ],
      "outputs": [],
      "execution_count": 4,
      "metadata": {
        "jupyter": {
          "source_hidden": false,
          "outputs_hidden": false
        },
        "nteract": {
          "transient": {
            "deleting": false
          }
        },
        "gather": {
          "logged": 1683635023381
        }
      }
    },
    {
      "cell_type": "code",
      "source": [
        "%%writefile {dependencies_dir}/conda.yml\r\n",
        "# Give the requirement for the virtual environment\r\n",
        "name: model-env\r\n",
        "channels:\r\n",
        "  - conda-forge\r\n",
        "dependencies:\r\n",
        "  - python=3.8\r\n",
        "  - numpy=1.21.2\r\n",
        "  - pip=21.2.4\r\n",
        "  - scikit-learn=0.24.2\r\n",
        "  - scipy=1.7.1\r\n",
        "  - pandas>=1.1,<1.2\r\n",
        "  - pip:\r\n",
        "    - inference-schema[numpy-support]==1.3.0\r\n",
        "    - xlrd==2.0.1\r\n",
        "    - mlflow== 1.26.1\r\n",
        "    - azureml-mlflow==1.42.0\r\n",
        "    - psutil>=5.8,<5.9\r\n",
        "    - tqdm>=4.59,<4.60\r\n",
        "    - ipykernel~=6.0\r\n",
        "    - matplotlib\r\n",
        "    - lightgbm"
      ],
      "outputs": [
        {
          "output_type": "stream",
          "name": "stdout",
          "text": "Overwriting ./dependencies/conda.yml\n"
        }
      ],
      "execution_count": 5,
      "metadata": {
        "jupyter": {
          "source_hidden": false,
          "outputs_hidden": false
        },
        "nteract": {
          "transient": {
            "deleting": false
          }
        }
      }
    },
    {
      "cell_type": "code",
      "source": [
        "# Create the virtual environment\r\n",
        "from azure.ai.ml.entities import Environment\r\n",
        "\r\n",
        "custom_env_name = \"aml-scikit-learn\"\r\n",
        "\r\n",
        "pipeline_job_env = Environment(\r\n",
        "    name=custom_env_name,\r\n",
        "    description=\"Custom environment for Credit Card Defaults pipeline\",\r\n",
        "    tags={\"scikit-learn\": \"0.24.2\"},\r\n",
        "    conda_file=os.path.join(dependencies_dir, \"conda.yml\"),\r\n",
        "    image=\"mcr.microsoft.com/azureml/openmpi3.1.2-ubuntu18.04:latest\",\r\n",
        ")\r\n",
        "pipeline_job_env = ml_client.environments.create_or_update(pipeline_job_env)\r\n",
        "\r\n",
        "print(\r\n",
        "    f\"Environment with name {pipeline_job_env.name} is registered to workspace, the environment version is {pipeline_job_env.version}\"\r\n",
        ")"
      ],
      "outputs": [
        {
          "output_type": "stream",
          "name": "stdout",
          "text": "Environment with name aml-scikit-learn is registered to workspace, the environment version is 53\n"
        }
      ],
      "execution_count": 6,
      "metadata": {
        "jupyter": {
          "source_hidden": false,
          "outputs_hidden": false
        },
        "nteract": {
          "transient": {
            "deleting": false
          }
        },
        "gather": {
          "logged": 1683635024730
        }
      }
    },
    {
      "cell_type": "markdown",
      "source": [
        "# Part 1 : Cleaning"
      ],
      "metadata": {
        "nteract": {
          "transient": {
            "deleting": false
          }
        }
      }
    },
    {
      "cell_type": "markdown",
      "source": [
        "Cleaned dataset df was retrieved from \"https://www.kaggle.com/code/brandonsfick/group-2-v01\""
      ],
      "metadata": {
        "nteract": {
          "transient": {
            "deleting": false
          }
        }
      }
    },
    {
      "cell_type": "code",
      "source": [
        "# pip install lightgbm"
      ],
      "outputs": [],
      "execution_count": 7,
      "metadata": {
        "gather": {
          "logged": 1683635025362
        }
      }
    },
    {
      "cell_type": "code",
      "source": [
        "# pip install ydata_profiling"
      ],
      "outputs": [],
      "execution_count": 8,
      "metadata": {
        "gather": {
          "logged": 1683635026021
        },
        "jupyter": {
          "outputs_hidden": false,
          "source_hidden": false
        },
        "nteract": {
          "transient": {
            "deleting": false
          }
        }
      }
    },
    {
      "cell_type": "code",
      "source": [
        "# Import generic libraries\r\n",
        "import pandas as pd\r\n",
        "import numpy as np"
      ],
      "outputs": [],
      "execution_count": 9,
      "metadata": {
        "jupyter": {
          "source_hidden": false,
          "outputs_hidden": false
        },
        "nteract": {
          "transient": {
            "deleting": false
          }
        },
        "gather": {
          "logged": 1683635026613
        }
      }
    },
    {
      "cell_type": "code",
      "source": [
        "# Load dataset\r\n",
        "df = pd.read_csv(\"df.csv\").sample(10000)#[['DAYS_ID_PUBLISH','DAYS_BIRTH','TARGET']].sample(1000)"
      ],
      "outputs": [],
      "execution_count": 10,
      "metadata": {
        "gather": {
          "logged": 1683635027502
        },
        "jupyter": {
          "outputs_hidden": false,
          "source_hidden": false
        },
        "nteract": {
          "transient": {
            "deleting": false
          }
        }
      }
    },
    {
      "cell_type": "code",
      "source": [
        "# Describe the data\n",
        "#from ydata_profiling import ProfileReport\n",
        "#profile = ProfileReport(df, minimal=True)\n",
        "#profile.to_file(\"report.html\")"
      ],
      "outputs": [],
      "execution_count": 11,
      "metadata": {
        "jupyter": {
          "source_hidden": false,
          "outputs_hidden": false
        },
        "nteract": {
          "transient": {
            "deleting": false
          }
        },
        "gather": {
          "logged": 1683635028070
        }
      }
    },
    {
      "cell_type": "code",
      "source": [
        "# Correlation matrix\r\n",
        "import seaborn as sns\r\n",
        "import matplotlib.pyplot as plt\r\n",
        "\r\n",
        "corr_matrix = df.iloc[:,0:10].corr()\r\n",
        "\r\n",
        "sns.heatmap(corr_matrix, annot=True)\r\n",
        "plt.show()"
      ],
      "outputs": [
        {
          "output_type": "display_data",
          "data": {
            "text/plain": "<Figure size 432x288 with 2 Axes>",
            "image/png": "[encoded data removed]"
          },
          "metadata": {
            "needs_background": "light"
          }
        }
      ],
      "execution_count": 12,
      "metadata": {
        "jupyter": {
          "source_hidden": false,
          "outputs_hidden": false
        },
        "nteract": {
          "transient": {
            "deleting": false
          }
        },
        "gather": {
          "logged": 1683635029027
        }
      }
    },
    {
      "cell_type": "code",
      "source": [
        "# List of correlation pairs in descending order\r\n",
        "corr_matrix = df.corr()\r\n",
        "corr_series = corr_matrix.unstack()\r\n",
        "sorted_corr = corr_series.sort_values(ascending=False)\r\n",
        "sorted_corr = sorted_corr[sorted_corr != 1]\r\n",
        "print(sorted_corr)\r\n"
      ],
      "outputs": [
        {
          "output_type": "stream",
          "name": "stdout",
          "text": "AMT_TOTAL_RECEIVABLE_MEAN         AMT_RECIVABLE_MEAN                  0.999998\nAMT_RECIVABLE_MEAN                AMT_TOTAL_RECEIVABLE_MEAN           0.999998\nAMT_BALANCE_MEAN                  AMT_RECIVABLE_MEAN                  0.999961\nAMT_RECIVABLE_MEAN                AMT_BALANCE_MEAN                    0.999961\nAMT_TOTAL_RECEIVABLE_MEAN         AMT_BALANCE_MEAN                    0.999950\n                                                                        ...   \nMONTHS_BALANCE_MEAN_y             SK_ID_CURR_MEAN                    -0.658671\n                                  NAME_CONTRACT_STATUS_Active_MEAN   -0.695216\nNAME_CONTRACT_STATUS_Active_MEAN  MONTHS_BALANCE_MEAN_y              -0.695216\nMONTHS_BALANCE_MEAN_y             Date_Rank_MEAN                     -0.703882\nDate_Rank_MEAN                    MONTHS_BALANCE_MEAN_y              -0.703882\nLength: 6972, dtype: float64\n"
        }
      ],
      "execution_count": 13,
      "metadata": {
        "jupyter": {
          "source_hidden": false,
          "outputs_hidden": false
        },
        "nteract": {
          "transient": {
            "deleting": false
          }
        },
        "gather": {
          "logged": 1683635029609
        }
      }
    },
    {
      "cell_type": "code",
      "source": [
        "# Drop highly correlated variables - threshold 90% correlation\r\n",
        "df = df.drop(columns=['AMT_RECIVABLE_MEAN','AMT_TOTAL_RECEIVABLE_MEAN'])\r\n",
        "df = df.drop(columns=['AMT_RECEIVABLE_PRINCIPAL_MEAN','DAYS_ENTRY_PAYMENT_MEAN','NAME_CONTRACT_STATUS_Active_MEAN'])\r\n",
        "df=df.drop(columns=['DAYS_EMPLOYED_PERCENT','AMT_PAYMENT_CURRENT_MEAN','AMT_INST_MIN_REGULARITY_MEAN'])\r\n",
        "df=df.drop(columns=['CNT_DRAWINGS_POS_CURRENT_MEAN','CNT_INSTALMENT_FUTURE_MEAN','DAYS_ENDDATE_FACT_SUM'])\r\n",
        "df=df.drop(columns=['REGION_RATING_CLIENT_W_CITY','AMT_DRAWINGS_CURRENT_MEAN','DEF_60_CNT_SOCIAL_CIRCLE'])\r\n",
        "df=df.drop(columns=['MONTHS_BALANCE_MEAN_x','Date_Rank_MEAN','DAYS_ENDDATE_FACT_MIN'])"
      ],
      "outputs": [],
      "execution_count": 14,
      "metadata": {
        "jupyter": {
          "source_hidden": false,
          "outputs_hidden": false
        },
        "nteract": {
          "transient": {
            "deleting": false
          }
        },
        "gather": {
          "logged": 1683635030200
        }
      }
    },
    {
      "cell_type": "markdown",
      "source": [
        "# Part 2 : Exploratory Data Analysis"
      ],
      "metadata": {
        "nteract": {
          "transient": {
            "deleting": false
          }
        }
      }
    },
    {
      "cell_type": "markdown",
      "source": [
        "# Part 3 : Model selection"
      ],
      "metadata": {
        "nteract": {
          "transient": {
            "deleting": false
          }
        }
      }
    },
    {
      "cell_type": "code",
      "source": [
        "import warnings\r\n",
        "warnings.filterwarnings('ignore')\r\n",
        "warnings.simplefilter('ignore')"
      ],
      "outputs": [],
      "execution_count": 15,
      "metadata": {
        "jupyter": {
          "source_hidden": false,
          "outputs_hidden": false
        },
        "nteract": {
          "transient": {
            "deleting": false
          }
        },
        "gather": {
          "logged": 1683635030985
        }
      }
    },
    {
      "cell_type": "markdown",
      "source": [
        "## 3-1 : Preprocessing : RobustScaler and SMOTE"
      ],
      "metadata": {
        "nteract": {
          "transient": {
            "deleting": false
          }
        }
      }
    },
    {
      "cell_type": "markdown",
      "source": [
        "## 3-1-1 RobustScaler"
      ],
      "metadata": {
        "nteract": {
          "transient": {
            "deleting": false
          }
        }
      }
    },
    {
      "cell_type": "code",
      "source": [
        "# Import libraries for preprocessing\n",
        "import time\n",
        "\n",
        "from sklearn.tree import DecisionTreeClassifier\n",
        "\n",
        "from sklearn.metrics import auc, roc_curve, accuracy_score, roc_auc_score \n",
        "from sklearn.metrics import det_curve\n",
        "\n",
        "from sklearn.model_selection import train_test_split, GridSearchCV"
      ],
      "outputs": [],
      "execution_count": 16,
      "metadata": {
        "gather": {
          "logged": 1683635031513
        }
      }
    },
    {
      "cell_type": "code",
      "source": [
        "# Normalize data and split\n",
        "from sklearn.preprocessing import RobustScaler\n",
        "\n",
        "scaler = RobustScaler()\n",
        "\n",
        "X = df.drop(columns='TARGET').values\n",
        "#X = scaler.fit_transform(X) _> no normalization\n",
        "y = df['TARGET'].values\n",
        "X_train,X_test,y_train,y_test = train_test_split(X,y,test_size=0.2)"
      ],
      "outputs": [],
      "execution_count": 17,
      "metadata": {
        "gather": {
          "logged": 1683635032370
        }
      }
    },
    {
      "cell_type": "markdown",
      "source": [
        "## 3-1-2 SMOTE"
      ],
      "metadata": {
        "nteract": {
          "transient": {
            "deleting": false
          }
        }
      }
    },
    {
      "cell_type": "code",
      "source": [
        "#pip install imblearn"
      ],
      "outputs": [],
      "execution_count": 18,
      "metadata": {
        "gather": {
          "logged": 1683635032901
        }
      }
    },
    {
      "cell_type": "code",
      "source": [
        "# Model use for SMOTE testing\n",
        "model = DecisionTreeClassifier() "
      ],
      "outputs": [],
      "execution_count": 19,
      "metadata": {
        "gather": {
          "logged": 1683635033740
        }
      }
    },
    {
      "cell_type": "code",
      "source": [
        "# First option : borderline-SMOTE for imbalanced dataset\n",
        "from collections import Counter\n",
        "from sklearn.datasets import make_classification\n",
        "from imblearn.over_sampling import BorderlineSMOTE, SVMSMOTE\n",
        "from matplotlib import pyplot\n",
        "from numpy import where\n",
        "from sklearn.metrics import confusion_matrix\n",
        "\n",
        "\n",
        "%pylab inline\n",
        "# summarize class distribution\n",
        "counter = Counter(y_train)\n",
        "print(counter)\n",
        "# transform the dataset\n",
        "oversample = BorderlineSMOTE()\n",
        "X_, y_ = oversample.fit_resample(X_train, y_train)\n",
        "\n",
        "# summarize the new class distribution\n",
        "counter = Counter(y_)\n",
        "print(counter)\n",
        "\n",
        "# scatter plot of examples by class label\n",
        "for label, _ in counter.items():\n",
        " row_ix = where(y_ == label)[0]\n",
        " pyplot.scatter(X_[row_ix, 0], X_[row_ix, 1], label=str(label))\n",
        "pyplot.legend()\n",
        "pyplot.show()\n",
        "\n",
        "# prediction\n",
        "clf = GridSearchCV(model,\n",
        "            param_grid={},\n",
        "            cv=5,\n",
        "            scoring='roc_auc',\n",
        "            verbose=2)\n",
        "clf.fit(X_,y_)\n",
        "\n",
        "# Train scoring\n",
        "print('Train results: ','\\nModel: ', clf.best_estimator_, '\\nBest parameters: ', clf.best_params_, '\\nBest ROC AUC: %.2f' % clf.best_score_)\n",
        "y_pred = clf.predict(X_test)\n",
        "\n",
        "#fpr, fnr, thresholds = det_curve(y_test, y_pred)\n",
        "tn, fp, fn, tp = confusion_matrix(y_test, y_pred, normalize='all').ravel()\n",
        "\n",
        "# Test scoring\n",
        "print('Test results: ')\n",
        "print('Cost (10fn+fp): {:.2f}'.format(10*fn+fp))\n",
        "print('AUC: %.2f' % roc_auc_score(y_test, y_pred))\n",
        "print('Accuracy: %.2f' % accuracy_score(y_test, y_pred))"
      ],
      "outputs": [
        {
          "output_type": "stream",
          "name": "stdout",
          "text": "%pylab is deprecated, use %matplotlib inline and import the required libraries.\nPopulating the interactive namespace from numpy and matplotlib\nCounter({0.0: 7347, 1.0: 653})\nCounter({0.0: 7347, 1.0: 7347})\n"
        },
        {
          "output_type": "display_data",
          "data": {
            "text/plain": "<Figure size 432x288 with 1 Axes>",
            "image/png": "[encoded data removed]"
          },
          "metadata": {
            "needs_background": "light"
          }
        },
        {
          "output_type": "stream",
          "name": "stdout",
          "text": "Fitting 5 folds for each of 1 candidates, totalling 5 fits\n[CV] END .................................................... total time=   0.3s\n[CV] END .................................................... total time=   0.3s\n[CV] END .................................................... total time=   0.3s\n[CV] END .................................................... total time=   0.3s\n[CV] END .................................................... total time=   0.3s\nTrain results:  \nModel:  DecisionTreeClassifier() \nBest parameters:  {} \nBest ROC AUC: 0.90\nTest results: \nCost (10fn+fp): 0.70\nAUC: 0.55\nAccuracy: 0.85\n"
        }
      ],
      "execution_count": 20,
      "metadata": {
        "gather": {
          "logged": 1683635034382
        }
      }
    },
    {
      "cell_type": "code",
      "source": [],
      "outputs": [],
      "execution_count": null,
      "metadata": {
        "jupyter": {
          "source_hidden": false,
          "outputs_hidden": false
        },
        "nteract": {
          "transient": {
            "deleting": false
          }
        }
      }
    },
    {
      "cell_type": "code",
      "source": [
        "# Second option : borderline-SMOTE with SVM for imbalanced dataset\n",
        "\n",
        "%pylab inline\n",
        "# summarize class distribution\n",
        "counter = Counter(y)\n",
        "print(counter)\n",
        "# transform the dataset\n",
        "oversample = SVMSMOTE()\n",
        "X_, y_ = oversample.fit_resample(X_train, y_train)\n",
        "# summarize the new class distribution\n",
        "counter = Counter(y_)\n",
        "print(counter)\n",
        "# scatter plot of examples by class label\n",
        "for label, _ in counter.items():\n",
        " row_ix = where(y_ == label)[0]\n",
        " pyplot.scatter(X_[row_ix, 0], X_[row_ix, 1], label=str(label))\n",
        "pyplot.legend()\n",
        "pyplot.show()\n",
        "\n",
        "# Fitting model\n",
        "clf = GridSearchCV(model,param_grid={},cv=5,scoring='roc_auc',verbose=2)\n",
        "clf.fit(X_,y_)\n",
        "y_pred = clf.predict(X_test)\n",
        "\n",
        "# Train scoring\n",
        "print('Train results: ','\\nModel: ', clf.best_estimator_, '\\nBest parameters: ', clf.best_params_, '\\nBest ROC AUC: %.2f' % clf.best_score_)\n",
        "y_pred = clf.predict(X_test)\n",
        "#fpr, fnr, thresholds = det_curve(y_test, y_pred)\n",
        "tn, fp, fn, tp = confusion_matrix(y_test, y_pred, normalize='all').ravel()\n",
        "\n",
        "# Test scoring\n",
        "print('Test results: ')\n",
        "print('Cost (10fn+fp): {:.2f}'.format(10*fn+fp))\n",
        "#print('Cost (10fnr+fpr): {:.2f}'.format(10*fnr[1]+fpr[1]))\n",
        "print('AUC: %.2f' % roc_auc_score(y_test, y_pred))\n",
        "print('Accuracy: %.2f' % accuracy_score(y_test, y_pred))"
      ],
      "outputs": [
        {
          "output_type": "stream",
          "name": "stdout",
          "text": "%pylab is deprecated, use %matplotlib inline and import the required libraries.\nPopulating the interactive namespace from numpy and matplotlib\nCounter({0.0: 9194, 1.0: 806})\nCounter({0.0: 7347, 1.0: 3739})\n"
        },
        {
          "output_type": "display_data",
          "data": {
            "text/plain": "<Figure size 432x288 with 1 Axes>",
            "image/png": "[encoded data removed]"
          },
          "metadata": {
            "needs_background": "light"
          }
        },
        {
          "output_type": "stream",
          "name": "stdout",
          "text": "Fitting 5 folds for each of 1 candidates, totalling 5 fits\n[CV] END .................................................... total time=   0.2s\n[CV] END .................................................... total time=   0.3s\n[CV] END .................................................... total time=   0.3s\n[CV] END .................................................... total time=   0.3s\n[CV] END .................................................... total time=   0.3s\nTrain results:  \nModel:  DecisionTreeClassifier() \nBest parameters:  {} \nBest ROC AUC: 0.86\nTest results: \nCost (10fn+fp): 0.74\nAUC: 0.53\nAccuracy: 0.84\n"
        }
      ],
      "execution_count": 21,
      "metadata": {
        "gather": {
          "logged": 1683635035243
        },
        "scrolled": false
      }
    },
    {
      "cell_type": "markdown",
      "source": [
        "We choose BorderlineSMOTE() over borderline-SMOTE with SVM. the first Borderline has a better scores with the baseline model DecisionTreeClassifier"
      ],
      "metadata": {}
    },
    {
      "cell_type": "code",
      "source": [
        "# borderline-SMOTE for imbalanced dataset (data are already normalized)\n",
        "from collections import Counter\n",
        "from sklearn.datasets import make_classification\n",
        "from imblearn.over_sampling import BorderlineSMOTE\n",
        "\n",
        "%pylab inline\n",
        "# summarize class distribution\n",
        "counter = Counter(y_train)\n",
        "print(counter)\n",
        "# transform the dataset\n",
        "oversample = BorderlineSMOTE()\n",
        "X_, y_ = oversample.fit_resample(X_train, y_train)\n",
        "# summarize the new class distribution\n",
        "counter = Counter(y_)\n",
        "print(counter)\n",
        "# scatter plot of examples by class label\n",
        "for label, _ in counter.items():\n",
        " row_ix = where(y_ == label)[0]\n",
        " pyplot.scatter(X_[row_ix, 0], X_[row_ix, 1], label=str(label))\n",
        "pyplot.legend()\n",
        "pyplot.show()"
      ],
      "outputs": [
        {
          "output_type": "stream",
          "name": "stdout",
          "text": "%pylab is deprecated, use %matplotlib inline and import the required libraries.\nPopulating the interactive namespace from numpy and matplotlib\nCounter({0.0: 7347, 1.0: 653})\nCounter({0.0: 7347, 1.0: 7347})\n"
        },
        {
          "output_type": "display_data",
          "data": {
            "text/plain": "<Figure size 432x288 with 1 Axes>",
            "image/png": "[encoded data removed]"
          },
          "metadata": {
            "needs_background": "light"
          }
        }
      ],
      "execution_count": 22,
      "metadata": {
        "gather": {
          "logged": 1683635035913
        },
        "scrolled": true
      }
    },
    {
      "cell_type": "markdown",
      "source": [
        "## 3-2 : Model testing"
      ],
      "metadata": {
        "nteract": {
          "transient": {
            "deleting": false
          }
        }
      }
    },
    {
      "cell_type": "code",
      "source": [
        "import time\r\n",
        "\r\n",
        "from sklearn.ensemble import RandomForestClassifier \r\n",
        "from sklearn.linear_model import LogisticRegression\r\n",
        "from sklearn.dummy import DummyClassifier\r\n",
        "from lightgbm import LGBMClassifier\r\n",
        "\r\n",
        "from sklearn.model_selection import RandomizedSearchCV\r\n",
        "from sklearn.model_selection import RepeatedStratifiedKFold\r\n",
        "\r\n",
        "from sklearn.metrics import roc_auc_score, roc_curve, recall_score, f1_score, precision_recall_fscore_support\r\n"
      ],
      "outputs": [],
      "execution_count": 23,
      "metadata": {
        "jupyter": {
          "source_hidden": false,
          "outputs_hidden": false
        },
        "nteract": {
          "transient": {
            "deleting": false
          }
        },
        "gather": {
          "logged": 1683635036691
        }
      }
    },
    {
      "cell_type": "code",
      "source": [
        "# Custom score function\r\n",
        "from sklearn.metrics import make_scorer, det_curve\r\n",
        "\r\n",
        "def cost_function(y_test, y_pred):\r\n",
        "    fpr, fnr, thresholds = det_curve(y_test, y_pred)\r\n",
        "    tn, fp, fn, tp = confusion_matrix(y_test, y_pred, normalize='all').ravel()\r\n",
        "    return 10*fn + fp\r\n",
        "\r\n",
        "custom_scorer = make_scorer(cost_function, greater_is_better=False)"
      ],
      "outputs": [],
      "execution_count": 24,
      "metadata": {
        "jupyter": {
          "source_hidden": false,
          "outputs_hidden": false
        },
        "nteract": {
          "transient": {
            "deleting": false
          }
        },
        "gather": {
          "logged": 1683635037216
        }
      }
    },
    {
      "cell_type": "code",
      "source": [
        "# Confusion matrix function\r\n",
        "from sklearn.metrics import confusion_matrix\r\n",
        "import seaborn as sns\r\n",
        "\r\n",
        "def confmat(y_test, y_pred):\r\n",
        "\r\n",
        "    conf_matrix = confusion_matrix(y_test, y_pred, normalize='all')\r\n",
        "    tn, fp, fn, tp = confusion_matrix(y_test, y_pred, normalize='all').ravel()\r\n",
        "    print('fp : ',fp,'\\ntn : ', fn)\r\n",
        "\r\n",
        "    # Change figure size and increase dpi for better resolution\r\n",
        "    plt.figure(figsize=(8,6), dpi=100)\r\n",
        "    # Scale up the size of all text\r\n",
        "    sns.set(font_scale = 1.1)\r\n",
        "\r\n",
        "    # Plot Confusion Matrix using Seaborn heatmap()\r\n",
        "    # Parameters:\r\n",
        "    # first param - confusion matrix in array format   \r\n",
        "    # annot = True: show the numbers in each heatmap cell\r\n",
        "    # fmt = 'd': show numbers as integers. \r\n",
        "    ax = sns.heatmap(conf_matrix, annot=True, fmt='.2g')\r\n",
        "\r\n",
        "    # set x-axis label and ticks. \r\n",
        "    ax.set_xlabel(\"Predicted\", fontsize=14, labelpad=20)\r\n",
        "    ax.xaxis.set_ticklabels(['0', '1'])\r\n",
        "\r\n",
        "    # set y-axis label and ticks\r\n",
        "    ax.set_ylabel(\"Actual\", fontsize=14, labelpad=20)\r\n",
        "    ax.yaxis.set_ticklabels(['0', '1'])\r\n",
        "\r\n",
        "    # set plot title\r\n",
        "    ax.set_title(\"Confusion Matrix for credit default\", fontsize=14, pad=20)\r\n",
        "\r\n",
        "    plt.show()"
      ],
      "outputs": [],
      "execution_count": 25,
      "metadata": {
        "jupyter": {
          "source_hidden": false,
          "outputs_hidden": false
        },
        "nteract": {
          "transient": {
            "deleting": false
          }
        },
        "gather": {
          "logged": 1683635037811
        }
      }
    },
    {
      "cell_type": "code",
      "source": [
        "# Definition of the models to train and test\n",
        "\n",
        "from scipy.stats import uniform as sp_randFloat\n",
        "from scipy.stats import randint as sp_randint\n",
        "\n",
        "# Instanciation des différents modèles\n",
        "\n",
        "LOGREG_clf = LogisticRegression() \n",
        "RFC_clf= RandomForestClassifier()\n",
        "DUMMY_clf = DummyClassifier()\n",
        "LGBM_clf=LGBMClassifier()\n",
        "\n",
        "# Estimators list\n",
        "\n",
        "estimators = [(\"DummyClassifier\", DUMMY_clf),    \n",
        "              (\"LightGBM\",LGBM_clf), \n",
        "              (\"RandomForestClassifier\", RFC_clf),               \n",
        "              (\"LogisticRegression\", LOGREG_clf)                \n",
        "             ]\n",
        "\n",
        "# Hyperparameters range for the estimators \n",
        "\n",
        "LOGREG_rand_params= [{'max_iter':sp_randint(500, 5000),\n",
        "                      'C': np.logspace(-4, 4, 20),\n",
        "                     }]\n",
        "    \n",
        "RFC_rand_params= [{'n_estimators' :[100,500],\n",
        "                   'max_depth':[3,5,None],\n",
        "                   'max_features':sp_randint(1,3),\n",
        "                   'criterion':['gini'], \n",
        "                   'bootstrap':[True,False],\n",
        "                   'min_samples_leaf':sp_randint(1,4)                   \n",
        "                  }]\n",
        "\n",
        "LGBM_rand_params=[{'nthread':[2,6],\n",
        "                   'n_estimators':[300,700,1000],\n",
        "                   'learning_rate':sp_randFloat(0.02,0.2),\n",
        "                   'num_leaves':[30,35],\n",
        "                   'max_depth':[5,10,15],\n",
        "                   'min_child_weight':[35,40],\n",
        "                  }]\n",
        "            \n",
        "Dummy_rand_params= [{'strategy':['stratified']\n",
        "                    }]      \n",
        "\n",
        "# Hyperparameters dictionary used for RandomizedSearchCV\n",
        "\n",
        "params_list_RndSearchCV =  {'DummyClassifier': Dummy_rand_params,\n",
        "                            'LightGBM':LGBM_rand_params,\n",
        "                            'RandomForestClassifier': RFC_rand_params,\n",
        "                            'LogisticRegression': LOGREG_rand_params\n",
        "                           } "
      ],
      "outputs": [],
      "execution_count": 26,
      "metadata": {
        "gather": {
          "logged": 1683635038736
        },
        "jupyter": {
          "outputs_hidden": false,
          "source_hidden": false
        },
        "nteract": {
          "transient": {
            "deleting": false
          }
        }
      }
    },
    {
      "cell_type": "markdown",
      "source": [
        "## 3-3 : Scoring"
      ],
      "metadata": {
        "nteract": {
          "transient": {
            "deleting": false
          }
        }
      }
    },
    {
      "cell_type": "code",
      "source": [
        "# Train/fit models and display best model evaluations, graphs and scores\r\n",
        "from sklearn.metrics import classification_report, roc_auc_score, f1_score, accuracy_score\r\n",
        "\r\n",
        "result_table = []\r\n",
        "\r\n",
        "for (name, est) in (estimators):\r\n",
        "    # Cross validation with RandomizedSearchCV\r\n",
        "\r\n",
        "    score = df.shape[0]\r\n",
        "    model=[]\r\n",
        "    Names=[]\r\n",
        "    \r\n",
        "    # paramètre CV\r\n",
        "    cv = RepeatedStratifiedKFold(n_splits=5, n_repeats=3, random_state=1)    # n_splits=10, n_repeats=3\r\n",
        "    \r\n",
        "    # Instance RandomizedSearchCV\r\n",
        "    clf = RandomizedSearchCV(est, \r\n",
        "                                param_distributions=params_list_RndSearchCV[name],\r\n",
        "                                n_iter=10, \r\n",
        "                                cv=cv, \r\n",
        "                                scoring=custom_scorer, \r\n",
        "                                n_jobs=-1,    \r\n",
        "                                random_state=42,\r\n",
        "                                refit=\"custom_scorer\"\r\n",
        "                                )  \r\n",
        "\r\n",
        "    # Fit\r\n",
        "    clf.fit(X_, y_)\r\n",
        "\r\n",
        "    # Predict\r\n",
        "    y_pred = clf.best_estimator_.predict(X_test)\r\n",
        "\r\n",
        "    # Display results\r\n",
        "    print(\"model : \", clf.best_estimator_)\r\n",
        "    confmat(y_test, y_pred)\r\n",
        "    print(classification_report (y_test, y_pred))\r\n",
        "    print(\"custom score train : \",(-clf.best_score_).round(2))\r\n",
        "    print(\"custom score test : \",cost_function(y_test, y_pred))\r\n",
        "    print('###################################################################################')\r\n",
        "        \r\n",
        "    fpr, tpr, threshold = det_curve(y_test, y_pred)\r\n",
        "    result_table.append({'models':clf.best_estimator_, \r\n",
        "                                        'fpr':fpr,\r\n",
        "                                        'tpr':tpr,\r\n",
        "                                        'auc':roc_auc_score(y_test, y_pred),\r\n",
        "                                        'F1':f1_score(y_test, y_pred), \r\n",
        "                                        'Custom Cost train':(-clf.best_score_).round(2),\r\n",
        "                                        'Custom Cost test' :cost_function(y_test, y_pred),\r\n",
        "                                        'Accuracy':accuracy_score(y_test, y_pred)})"
      ],
      "outputs": [
        {
          "output_type": "stream",
          "name": "stdout",
          "text": "model :  DummyClassifier(strategy='stratified')\nfp :  0.458 \ntn :  0.032\n"
        },
        {
          "output_type": "display_data",
          "data": {
            "text/plain": "<Figure size 800x600 with 2 Axes>",
            "image/png": "[encoded data removed]"
          },
          "metadata": {
            "needs_background": "light"
          }
        },
        {
          "output_type": "stream",
          "name": "stdout",
          "text": "              precision    recall  f1-score   support\n\n         0.0       0.94      0.50      0.66      1847\n         1.0       0.09      0.58      0.15       153\n\n    accuracy                           0.51      2000\n   macro avg       0.51      0.54      0.40      2000\nweighted avg       0.87      0.51      0.62      2000\n\ncustom score train :  2.77\ncustom score test :  0.778\n###################################################################################\n[LightGBM] [Warning] num_threads is set with nthread=6, will be overridden by n_jobs=-1. Current value: num_threads=-1\nmodel :  LGBMClassifier(learning_rate=0.14237057894447588, max_depth=10,\n               min_child_weight=40, n_estimators=1000, nthread=6,\n               num_leaves=35)\nfp :  0.0105 \ntn :  0.071\n"
        },
        {
          "output_type": "display_data",
          "data": {
            "text/plain": "<Figure size 800x600 with 2 Axes>",
            "image/png": "[encoded data removed]"
          },
          "metadata": {}
        },
        {
          "output_type": "stream",
          "name": "stdout",
          "text": "              precision    recall  f1-score   support\n\n         0.0       0.93      0.99      0.96      1847\n         1.0       0.34      0.07      0.12       153\n\n    accuracy                           0.92      2000\n   macro avg       0.64      0.53      0.54      2000\nweighted avg       0.88      0.92      0.89      2000\n\ncustom score train :  0.42\ncustom score test :  0.7204999999999999\n###################################################################################\n"
        }
      ],
      "execution_count": 27,
      "metadata": {
        "jupyter": {
          "source_hidden": false,
          "outputs_hidden": false
        },
        "nteract": {
          "transient": {
            "deleting": false
          }
        },
        "gather": {
          "logged": 1683623249718
        }
      }
    },
    {
      "cell_type": "code",
      "source": [
        "result_table = pd.DataFrame(result_table)\r\n",
        "result_table"
      ],
      "outputs": [],
      "execution_count": null,
      "metadata": {
        "gather": {
          "logged": 1683623250343
        },
        "jupyter": {
          "outputs_hidden": false,
          "source_hidden": false
        },
        "nteract": {
          "transient": {
            "deleting": false
          }
        }
      }
    },
    {
      "cell_type": "code",
      "source": [
        "# Enregistrement du meilleur modèle (score maison mini)\r\n",
        "index = np.argmin(result_table['Custom Cost test'])   \r\n",
        "       \r\n",
        "Model_name = result_table.iloc[index, 0]\r\n",
        "Model_name"
      ],
      "outputs": [],
      "execution_count": null,
      "metadata": {
        "jupyter": {
          "source_hidden": false,
          "outputs_hidden": false
        },
        "nteract": {
          "transient": {
            "deleting": false
          }
        },
        "gather": {
          "logged": 1683623250946
        }
      }
    },
    {
      "cell_type": "code",
      "source": [
        "import matplotlib.pyplot as plt\r\n",
        "from sklearn.metrics import DetCurveDisplay, RocCurveDisplay\r\n",
        "\r\n",
        "#fig, [ax_roc, ax_det] = plt.subplots(1, 2, figsize=(11, 5))\r\n",
        "fig, ax_roc = plt.subplots(1, 1, figsize=(10, 10))\r\n",
        "\r\n",
        "for clf in result_table.iloc[:,0]:\r\n",
        "    clf.fit(X_, y_)\r\n",
        "\r\n",
        "    RocCurveDisplay.from_estimator(clf, X_test, y_test, ax=ax_roc, name=clf)\r\n",
        "    #DetCurveDisplay.from_estimator(clf, X_test, y_test, ax=ax_det, name=clf)\r\n",
        "\r\n",
        "ax_roc.set_title(\"Receiver Operating Characteristic (ROC) curves\")\r\n",
        "#ax_det.set_title(\"Detection Error Tradeoff (DET) curves\")\r\n",
        "\r\n",
        "ax_roc.grid(linestyle=\"--\")\r\n",
        "#ax_det.grid(linestyle=\"--\")\r\n",
        "\r\n",
        "plt.legend(bbox_to_anchor=(1,1.02))\r\n",
        "plt.show()"
      ],
      "outputs": [],
      "execution_count": null,
      "metadata": {
        "jupyter": {
          "source_hidden": false,
          "outputs_hidden": false
        },
        "nteract": {
          "transient": {
            "deleting": false
          }
        },
        "gather": {
          "logged": 1683623261600
        }
      }
    },
    {
      "cell_type": "code",
      "source": [
        "# Best Threshold and cost with best model\r\n",
        "import numpy as np\r\n",
        "from sklearn.metrics import accuracy_score, precision_score, recall_score, f1_score, roc_curve, roc_auc_score\r\n",
        "model = Model_name\r\n",
        "# entraînez votre modèle de classification binaire\r\n",
        "model.fit(X_, y_)\r\n",
        "\r\n",
        "# obtenez les scores de probabilité pour votre ensemble de données de validation ou de test\r\n",
        "y_scores = model.predict_proba(X_test)[:, 1]\r\n",
        "range_th = np.linspace(0, 1, 101)\r\n",
        "range_co = []\r\n",
        "# appliquez différents seuils de classification aux scores de probabilité\r\n",
        "for threshold in range_th:\r\n",
        "    y_pred = (y_scores >= threshold).astype(int)\r\n",
        "\r\n",
        "    # évaluez la performance de chaque prédiction binaire en utilisant des mesures d'évaluation\r\n",
        "    range_co.append(cost_function(y_test, y_pred))\r\n",
        "    best_th = range_th[argmin(range_co)]\r\n",
        "print('Best model : ', model,'\\nBest Cost on test sample): ', min(range_co),'\\nBest Threshold : ',range_th[argmin(range_co)])"
      ],
      "outputs": [],
      "execution_count": null,
      "metadata": {
        "jupyter": {
          "source_hidden": false,
          "outputs_hidden": false
        },
        "nteract": {
          "transient": {
            "deleting": false
          }
        },
        "gather": {
          "logged": 1683623265659
        }
      }
    },
    {
      "cell_type": "markdown",
      "source": [
        "## 3-4 : Feature importance"
      ],
      "metadata": {
        "nteract": {
          "transient": {
            "deleting": false
          }
        }
      }
    },
    {
      "cell_type": "code",
      "source": [
        "# La liste des variables hors target\r\n",
        "feature_names = df.columns.tolist()\r\n",
        "feature_names.remove('TARGET')"
      ],
      "outputs": [],
      "execution_count": null,
      "metadata": {
        "jupyter": {
          "source_hidden": false,
          "outputs_hidden": false
        },
        "nteract": {
          "transient": {
            "deleting": false
          }
        },
        "gather": {
          "logged": 1683623266221
        }
      }
    },
    {
      "cell_type": "code",
      "source": [
        "# Le meilleur modèle entraîné\n",
        "Best_clf = Model_name\n",
        "Best_clf.fit(X_, y_)"
      ],
      "outputs": [],
      "execution_count": null,
      "metadata": {
        "gather": {
          "logged": 1683623269728
        },
        "jupyter": {
          "outputs_hidden": false,
          "source_hidden": false
        },
        "nteract": {
          "transient": {
            "deleting": false
          }
        }
      }
    },
    {
      "cell_type": "markdown",
      "source": [
        "## RandomForestClassifier"
      ],
      "metadata": {
        "nteract": {
          "transient": {
            "deleting": false
          }
        }
      }
    },
    {
      "cell_type": "code",
      "source": [
        "# La visualisation des important feature pour RandomForest\r\n",
        "if str(Model_name).startswith('RandomForest') == True :\r\n",
        "    feature_importance = Best_clf.coef_\r\n",
        "    sorted_idx = np.argsort(feature_importance) # np.argsort(feature_importance)[-6:-1]\r\n",
        "    sorted_idx = sorted_idx[:10]\r\n",
        "    fig = plt.figure(figsize=(12, 6))\r\n",
        "    plt.barh(range(len(sorted_idx)), feature_importance[sorted_idx], align='center')\r\n",
        "    plt.yticks(range(len(sorted_idx)), np.array(df.columns)[sorted_idx])\r\n",
        "    plt.title('Feature Importance')\r\n",
        "\r\n",
        "    # La liste des features importantes\r\n",
        "    imp_feat = df_imp_best['Feature'].unique()\r\n",
        "    imp_feat"
      ],
      "outputs": [],
      "execution_count": null,
      "metadata": {
        "jupyter": {
          "source_hidden": false,
          "outputs_hidden": false
        },
        "nteract": {
          "transient": {
            "deleting": false
          }
        },
        "gather": {
          "logged": 1683623270279
        }
      }
    },
    {
      "cell_type": "markdown",
      "source": [
        "### LogisticRegression"
      ],
      "metadata": {
        "nteract": {
          "transient": {
            "deleting": false
          }
        }
      }
    },
    {
      "cell_type": "code",
      "source": [
        "# La visualisation des important feature pour une régression logistique\r\n",
        "if str(Model_name).startswith('Logistic') == True :\r\n",
        "    feature_importance = abs(Best_clf.coef_[0])\r\n",
        "    sorted_idx = np.argsort(feature_importance) # np.argsort(feature_importance)[-6:-1]\r\n",
        "    sorted_idx = sorted_idx[:10]\r\n",
        "    fig = plt.figure(figsize=(12, 6))\r\n",
        "    plt.barh(range(len(sorted_idx)), feature_importance[sorted_idx], align='center')\r\n",
        "    plt.yticks(range(len(sorted_idx)), np.array(df.columns)[sorted_idx])\r\n",
        "    plt.title('Feature Importance')\r\n",
        "\r\n",
        "    # Le dictionnaire des features importance du plus petit au plus grand\r\n",
        "    dic_imp = dict(zip(np.array(df.columns)[sorted_idx],feature_importance[sorted_idx]))\r\n",
        "    df_imp_best = pd.DataFrame(list(dic_imp.items()), columns = ['Feature', 'Value'])"
      ],
      "outputs": [],
      "execution_count": null,
      "metadata": {
        "jupyter": {
          "source_hidden": false,
          "outputs_hidden": false
        },
        "nteract": {
          "transient": {
            "deleting": false
          }
        },
        "gather": {
          "logged": 1683623271169
        }
      }
    },
    {
      "cell_type": "markdown",
      "source": [
        "### LGBMClassifier"
      ],
      "metadata": {
        "nteract": {
          "transient": {
            "deleting": false
          }
        }
      }
    },
    {
      "cell_type": "code",
      "source": [
        "if str(Model_name).startswith('LGBM') :\r\n",
        "    import lightgbm\r\n",
        "\r\n",
        "    from lightgbm import LGBMClassifier\r\n",
        "\r\n",
        "    lgbm_model = LGBMClassifier()\r\n",
        "\r\n",
        "    lgbm_model.fit(X_, y_)\r\n",
        "\r\n",
        "    y_pred = lgbm_model.predict(X_test)\r\n",
        "\r\n",
        "\r\n",
        "    # Vizualisation\r\n",
        "    import matplotlib.pyplot as plt\r\n",
        "    import seaborn as sns\r\n",
        "    %matplotlib inline\r\n",
        "\r\n",
        "    def plotImp(model, X , num = 20, fig_size = (40, 20)):\r\n",
        "        feature_imp = pd.DataFrame({'Value':model.feature_importances_,'Feature':feature_names})\r\n",
        "        plt.figure(figsize=fig_size)\r\n",
        "        sns.set(font_scale = 5)\r\n",
        "        sns.barplot(x=\"Value\", y=\"Feature\", data=feature_imp.sort_values(by=\"Value\", \r\n",
        "                                                            ascending=False)[0:num])\r\n",
        "        plt.title('LightGBM Features (avg over folds)')\r\n",
        "        plt.tight_layout()\r\n",
        "        plt.savefig('lgbm_importances-01.png')\r\n",
        "        plt.show()\r\n",
        "\r\n",
        "    plotImp(lgbm_model,X_,num = 10, fig_size = (40, 20))\r\n",
        "\r\n",
        "    # Le dictionnaire des features importance du plus petit au plus grand\r\n",
        "    feature_imp = pd.DataFrame({'Value':lgbm_model.feature_importances_,'Feature':feature_names})\r\n",
        "    df_imp_best = feature_imp.sort_values(by=\"Value\",ascending=False)[0:10]"
      ],
      "outputs": [],
      "execution_count": null,
      "metadata": {
        "jupyter": {
          "source_hidden": false,
          "outputs_hidden": false
        },
        "nteract": {
          "transient": {
            "deleting": false
          }
        },
        "gather": {
          "logged": 1683623271734
        }
      }
    },
    {
      "cell_type": "markdown",
      "source": [
        "### Réentraînement du meilleur modèle sur les 10 features les plus importantes"
      ],
      "metadata": {
        "nteract": {
          "transient": {
            "deleting": false
          }
        }
      }
    },
    {
      "cell_type": "code",
      "source": [
        "# La liste des features importantes\r\n",
        "imp_feat = df_imp_best['Feature'].unique()\r\n",
        "imp_feat"
      ],
      "outputs": [],
      "execution_count": null,
      "metadata": {
        "jupyter": {
          "source_hidden": false,
          "outputs_hidden": false
        },
        "nteract": {
          "transient": {
            "deleting": false
          }
        },
        "gather": {
          "logged": 1683623272343
        }
      }
    },
    {
      "cell_type": "code",
      "source": [
        "df_ = pd.read_csv('df.csv')[0:2000]"
      ],
      "outputs": [],
      "execution_count": null,
      "metadata": {
        "jupyter": {
          "source_hidden": false,
          "outputs_hidden": false
        },
        "nteract": {
          "transient": {
            "deleting": false
          }
        },
        "gather": {
          "logged": 1683623273005
        }
      }
    },
    {
      "cell_type": "code",
      "source": [
        "# Le dataset réduit aux features importantes\r\n",
        "feat = imp_feat.tolist()+['TARGET']\r\n",
        "df_i = df_.loc[:,feat]\r\n",
        "X_i = df_i.drop(columns = 'TARGET').values\r\n",
        "y_i = df_i['TARGET'].values"
      ],
      "outputs": [],
      "execution_count": null,
      "metadata": {
        "jupyter": {
          "source_hidden": false,
          "outputs_hidden": false
        },
        "nteract": {
          "transient": {
            "deleting": false
          }
        },
        "gather": {
          "logged": 1683623273608
        }
      }
    },
    {
      "cell_type": "code",
      "source": [
        "# Split du dataset\r\n",
        "X_tr, X_te, y_tr, y_te = train_test_split(X_i,y_i,test_size=0.2, random_state=42)"
      ],
      "outputs": [],
      "execution_count": null,
      "metadata": {
        "jupyter": {
          "source_hidden": false,
          "outputs_hidden": false
        },
        "nteract": {
          "transient": {
            "deleting": false
          }
        },
        "gather": {
          "logged": 1683623276190
        }
      }
    },
    {
      "cell_type": "code",
      "source": [
        "# Entraînement du modéle\r\n",
        "Model_name.fit(X_tr, y_tr)"
      ],
      "outputs": [],
      "execution_count": null,
      "metadata": {
        "jupyter": {
          "source_hidden": false,
          "outputs_hidden": false
        },
        "nteract": {
          "transient": {
            "deleting": false
          }
        },
        "gather": {
          "logged": 1683623276240
        }
      }
    },
    {
      "cell_type": "code",
      "source": [
        "# Vérification du score\r\n",
        "y_te_pred = Model_name.predict(X_te)\r\n",
        "y_te_pred = (y_te_pred >= best_th)\r\n",
        "tn, fp, fn, tp = confusion_matrix(y_te, y_te_pred, normalize='all').ravel()\r\n",
        "\r\n",
        "# Test scoring\r\n",
        "print('Test results: ')\r\n",
        "print('Cost (10fn+fp): {:.2f}'.format(10*fn+fp))\r\n",
        "print('AUC: %.2f' % roc_auc_score(y_test, y_pred))\r\n",
        "print('Accuracy: %.2f' % accuracy_score(y_test, y_pred))"
      ],
      "outputs": [],
      "execution_count": null,
      "metadata": {
        "jupyter": {
          "source_hidden": false,
          "outputs_hidden": false
        },
        "nteract": {
          "transient": {
            "deleting": false
          }
        },
        "gather": {
          "logged": 1683623276283
        }
      }
    },
    {
      "cell_type": "markdown",
      "source": [
        "# Part 4 : Recording model and experiment"
      ],
      "metadata": {
        "nteract": {
          "transient": {
            "deleting": false
          }
        }
      }
    },
    {
      "cell_type": "code",
      "source": [
        "# Recording model with pickle\n",
        "import pickle\n",
        "pickle.dump(Model_name,open(\"Best_predictor.pkl\",\"wb\"))"
      ],
      "outputs": [],
      "execution_count": null,
      "metadata": {
        "gather": {
          "logged": 1683623276329
        },
        "jupyter": {
          "outputs_hidden": false,
          "source_hidden": false
        },
        "nteract": {
          "transient": {
            "deleting": false
          }
        }
      }
    },
    {
      "cell_type": "code",
      "source": [
        "# Recording experiment\r\n",
        "import os\r\n",
        "\r\n",
        "record_dir = \"./rd\"\r\n",
        "os.makedirs(record_dir, exist_ok=True)"
      ],
      "outputs": [],
      "execution_count": null,
      "metadata": {
        "jupyter": {
          "source_hidden": false,
          "outputs_hidden": false
        },
        "nteract": {
          "transient": {
            "deleting": false
          }
        },
        "gather": {
          "logged": 1683623276411
        }
      }
    },
    {
      "cell_type": "code",
      "source": [
        "%%writefile {record_dir}/main.py\r\n",
        "import os\r\n",
        "import argparse\r\n",
        "import pandas as pd\r\n",
        "import mlflow\r\n",
        "import mlflow.sklearn\r\n",
        "from sklearn.ensemble import GradientBoostingClassifier\r\n",
        "from sklearn.metrics import classification_report\r\n",
        "from sklearn.model_selection import train_test_split, GridSearchCV\r\n",
        "from sklearn.preprocessing import RobustScaler\r\n",
        "#from lightgbm import LGBMClassifier\r\n",
        "from sklearn.linear_model import LogisticRegression\r\n",
        "\r\n",
        "def main():\r\n",
        "\r\n",
        "    # Start Logging\r\n",
        "    mlflow.start_run()\r\n",
        "\r\n",
        "    # enable autologging\r\n",
        "    mlflow.sklearn.autolog()\r\n",
        "\r\n",
        "    ###################\r\n",
        "    #<prepare the data>\r\n",
        "    ###################\r\n",
        "        \r\n",
        "    scaler = RobustScaler()\r\n",
        "\r\n",
        "    df = pd.read_csv('df.csv')\r\n",
        "    X = df.drop(columns='TARGET').values\r\n",
        "    X = scaler.fit_transform(X)\r\n",
        "    y = df['TARGET'].values\r\n",
        "    \r\n",
        "    registered_model_name = 'LGBM'\r\n",
        "       \r\n",
        "    #LGBM_clf = LGBMClassifier(learning_rate=0.0330103185970559, max_depth=5,\r\n",
        "    #           min_child_weight=40, n_estimators=700, nthread=6, num_leaves=35)\r\n",
        "    \r\n",
        "    LGBM_clf = LogisticRegression(C=0.00026366508987303583, max_iter=2891)\r\n",
        "    LGBM_clf.fit(X,y)\r\n",
        "\r\n",
        "    mlflow.log_metric(\"num_samples\", df.shape[0])\r\n",
        "    mlflow.log_metric(\"num_features\", df.shape[1] - 1)\r\n",
        "\r\n",
        "    ##########################\r\n",
        "    #<save and register model with mlflow>\r\n",
        "    ##########################\r\n",
        "    # Registering the model to the workspace\r\n",
        "    print(\"Registering the model via MLFlow\")\r\n",
        "    mlflow.sklearn.log_model(\r\n",
        "        sk_model=LGBM_clf,\r\n",
        "        registered_model_name=registered_model_name,#args.registered_model_name,\r\n",
        "        artifact_path=registered_model_name#args.registered_model_name,\r\n",
        "    )\r\n",
        "\r\n",
        "    # Saving the model to a file\r\n",
        "    mlflow.sklearn.save_model(\r\n",
        "        sk_model=LGBM_clf,\r\n",
        "        path=os.path.join(registered_model_name, \"trained_model_PDS7_lgbm\"),\r\n",
        "    )\r\n",
        "    ###########################\r\n",
        "    #</save and register model>\r\n",
        "    ###########################\r\n",
        "    \r\n",
        "   \r\n",
        "\r\n",
        "    # Stop Logging\r\n",
        "    mlflow.end_run()\r\n",
        "\r\n",
        "if __name__ == \"__main__\":\r\n",
        "    main()"
      ],
      "outputs": [],
      "execution_count": null,
      "metadata": {
        "jupyter": {
          "source_hidden": false,
          "outputs_hidden": false
        },
        "nteract": {
          "transient": {
            "deleting": false
          }
        }
      }
    },
    {
      "cell_type": "code",
      "source": [
        "from azure.ai.ml import command\r\n",
        "from azure.ai.ml import Input\r\n",
        "\r\n",
        "registered_model_name = \"credit_defaults_model_PDS7\"\r\n",
        "\r\n",
        "job = command(\r\n",
        "    inputs=dict(\r\n",
        "        data=Input(\r\n",
        "            type=\"uri_file\",\r\n",
        "            path=\"df.csv\" #\"https://archive.ics.uci.edu/ml/machine-learning-databases/00350/default%20of%20credit%20card%20clients.xls\",\r\n",
        "        ),\r\n",
        "        #test_train_ratio=0.2,\r\n",
        "        #learning_rate=0.25,\r\n",
        "        registered_model_name=registered_model_name,\r\n",
        "    ),\r\n",
        "    code=\"./rd/\",  # location of source code\r\n",
        "    command=\"python main.py --data ${{inputs.data}} --registered_model_name ${{inputs.registered_model_name}}\",\r\n",
        "    environment=\"aml-scikit-learn@latest\",\r\n",
        "    compute=\"PDS6\",\r\n",
        "    experiment_name=\"train_model_credit_default_prediction_PDS7\",\r\n",
        "    display_name=\"credit_default_prediction_PDS7\",\r\n",
        ")"
      ],
      "outputs": [],
      "execution_count": null,
      "metadata": {
        "jupyter": {
          "source_hidden": false,
          "outputs_hidden": false
        },
        "nteract": {
          "transient": {
            "deleting": false
          }
        },
        "gather": {
          "logged": 1683623276465
        }
      }
    },
    {
      "cell_type": "code",
      "source": [
        "ml_client.create_or_update(job)"
      ],
      "outputs": [],
      "execution_count": null,
      "metadata": {
        "jupyter": {
          "source_hidden": false,
          "outputs_hidden": false
        },
        "nteract": {
          "transient": {
            "deleting": false
          }
        },
        "gather": {
          "logged": 1683623276515
        }
      }
    },
    {
      "cell_type": "markdown",
      "source": [
        "# Part 5 : Deploying model"
      ],
      "metadata": {
        "nteract": {
          "transient": {
            "deleting": false
          }
        }
      }
    },
    {
      "cell_type": "code",
      "source": [
        "See other"
      ],
      "outputs": [],
      "execution_count": null,
      "metadata": {
        "jupyter": {
          "source_hidden": false,
          "outputs_hidden": false
        },
        "nteract": {
          "transient": {
            "deleting": false
          }
        },
        "gather": {
          "logged": 1683623276567
        }
      }
    },
    {
      "cell_type": "code",
      "source": [],
      "outputs": [],
      "execution_count": null,
      "metadata": {
        "jupyter": {
          "source_hidden": false,
          "outputs_hidden": false
        },
        "nteract": {
          "transient": {
            "deleting": false
          }
        }
      }
    }
  ],
  "metadata": {
    "kernel_info": {
      "name": "python310-sdkv2"
    },
    "kernelspec": {
      "name": "python310-sdkv2",
      "language": "python",
      "display_name": "Python 3.10 - SDK v2"
    },
    "language_info": {
      "name": "python",
      "version": "3.10.9",
      "mimetype": "text/x-python",
      "codemirror_mode": {
        "name": "ipython",
        "version": 3
      },
      "pygments_lexer": "ipython3",
      "nbconvert_exporter": "python",
      "file_extension": ".py"
    },
    "microsoft": {
      "host": {
        "AzureML": {
          "notebookHasBeenCompleted": true
        }
      },
      "ms_spell_check": {
        "ms_spell_check_language": "en"
      }
    },
    "nteract": {
      "version": "nteract-front-end@1.0.0"
    }
  },
  "nbformat": 4,
  "nbformat_minor": 4
}